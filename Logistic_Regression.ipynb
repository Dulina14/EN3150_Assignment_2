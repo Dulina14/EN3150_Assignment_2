{
 "cells": [
  {
   "cell_type": "code",
   "execution_count": 11,
   "id": "53372b3d",
   "metadata": {},
   "outputs": [
    {
     "name": "stdout",
     "output_type": "stream",
     "text": [
      "       species  class_encoded\n",
      "0       Adelie              0\n",
      "1       Adelie              0\n",
      "2       Adelie              0\n",
      "4       Adelie              0\n",
      "5       Adelie              0\n",
      "..         ...            ...\n",
      "215  Chinstrap              1\n",
      "216  Chinstrap              1\n",
      "217  Chinstrap              1\n",
      "218  Chinstrap              1\n",
      "219  Chinstrap              1\n",
      "\n",
      "[214 rows x 2 columns]\n"
     ]
    }
   ],
   "source": [
    "import seaborn as sns\n",
    "import pandas as pd\n",
    "from sklearn.model_selection import train_test_split\n",
    "from sklearn.preprocessing import LabelEncoder\n",
    "from sklearn.linear_model import LogisticRegression\n",
    "from sklearn.metrics import accuracy_score\n",
    "\n",
    "\n",
    "# Load the penguins dataset\n",
    "df = sns.load_dataset(\"penguins\")\n",
    "df.dropna(inplace=True)\n",
    "\n",
    "# Filter rows for 'Adelie' and 'Chinstrap' classes\n",
    "selected_classes = ['Adelie', 'Chinstrap']\n",
    "df_filtered = df[df['species'].isin(selected_classes)].copy()\n",
    " \n",
    "# Make a copy to avoid the warning\n",
    "# Initialize the LabelEncoder\n",
    "le = LabelEncoder()\n",
    "\n",
    "# Encode the species column\n",
    "y_encoded = le.fit_transform(df_filtered['species'])\n",
    "df_filtered['class_encoded'] = y_encoded\n",
    "\n",
    "# Display the filtered and encoded DataFrame\n",
    "print(df_filtered[['species', 'class_encoded']])\n",
    "\n",
    "# Split the data into features (X) and target variable (y)\n",
    "y = df_filtered['class_encoded'] # Target variable\n",
    "# One-hot encode categorical columns\n",
    "X = pd.get_dummies(df_filtered.drop(['species', 'class_encoded'], axis=1), drop_first=True)\n",
    "\n"
   ]
  },
  {
   "cell_type": "code",
   "execution_count": null,
   "id": "8850373f",
   "metadata": {},
   "outputs": [
    {
     "name": "stdout",
     "output_type": "stream",
     "text": [
      "Accuracy: 0.7209302325581395\n",
      "[[ 0.11048573 -0.00669712 -0.0117827  -0.00084873  0.00813683 -0.00471248\n",
      "   0.00061346]] [-0.00057606]\n"
     ]
    },
    {
     "name": "stderr",
     "output_type": "stream",
     "text": [
      "c:\\Users\\hansa\\AppData\\Local\\Programs\\Python\\Python313\\Lib\\site-packages\\sklearn\\linear_model\\_sag.py:348: ConvergenceWarning: The max_iter was reached which means the coef_ did not converge\n",
      "  warnings.warn(\n"
     ]
    }
   ],
   "source": [
    "#Split the data into training and testing sets\n",
    "X_train, X_test, y_train, y_test = train_test_split(X, y,test_size=0.2, random_state=42)\n",
    "\n",
    "#Train the logistic regression model. Here we are using saga solver to learn weights.\n",
    "\n",
    "logreg = LogisticRegression(solver='saga', max_iter= 5000)\n",
    "logreg.fit(X_train, y_train)\n",
    "\n",
    "# Predict on the testing data\n",
    "y_pred = logreg.predict(X_test)\n",
    "\n",
    "# Evaluate the model\n",
    "accuracy = accuracy_score(y_test, y_pred)\n",
    "print(\"Accuracy:\", accuracy)\n",
    "print(logreg.coef_, logreg.intercept_)"
   ]
  },
  {
   "cell_type": "code",
   "execution_count": 18,
   "id": "7c3931fb",
   "metadata": {},
   "outputs": [
    {
     "name": "stdout",
     "output_type": "stream",
     "text": [
      "Accuracy: 1.0\n",
      "[[ 1.4972774  -1.3855492  -0.14189846 -0.00358871  0.72189036 -0.55196997\n",
      "  -0.22201155]] [-0.07582589]\n"
     ]
    }
   ],
   "source": [
    "#Split the data into training and testing sets\n",
    "X_train, X_test, y_train, y_test = train_test_split(X, y,test_size=0.2, random_state=42)\n",
    "\n",
    "#Train the logistic regression model. Here we are using saga solver to learn weights.\n",
    "\n",
    "logreg = LogisticRegression(solver='liblinear')\n",
    "logreg.fit(X_train, y_train)\n",
    "\n",
    "# Predict on the testing data\n",
    "y_pred = logreg.predict(X_test)\n",
    "\n",
    "# Evaluate the model\n",
    "accuracy = accuracy_score(y_test, y_pred)\n",
    "print(\"Accuracy:\", accuracy)\n",
    "print(logreg.coef_, logreg.intercept_)"
   ]
  },
  {
   "cell_type": "code",
   "execution_count": 27,
   "id": "080b2ee5",
   "metadata": {},
   "outputs": [
    {
     "name": "stdout",
     "output_type": "stream",
     "text": [
      "Accuracy: 1.0\n",
      "[[ 3.37665519 -0.462033    0.44936861 -0.35571064  1.11951271 -0.51640068\n",
      "  -0.91918918]] [-2.32025379]\n"
     ]
    }
   ],
   "source": [
    "from sklearn.preprocessing import StandardScaler\n",
    "\n",
    "scalar = StandardScaler()\n",
    "X_scaled = scalar.fit_transform(X)\n",
    "\n",
    "#Split the data into training and testing sets\n",
    "X_train, X_test, y_train, y_test = train_test_split(X_scaled, y,test_size=0.2, random_state=42)\n",
    "\n",
    "#Train the logistic regression model. Here we are using saga solver to learn weights.\n",
    "\n",
    "logreg = LogisticRegression(solver='saga', max_iter= 5000)\n",
    "logreg.fit(X_train, y_train)\n",
    "\n",
    "# Predict on the testing data\n",
    "y_pred = logreg.predict(X_test)\n",
    "\n",
    "# Evaluate the model\n",
    "accuracy = accuracy_score(y_test, y_pred)\n",
    "print(\"Accuracy:\", accuracy)\n",
    "print(logreg.coef_, logreg.intercept_)"
   ]
  },
  {
   "cell_type": "code",
   "execution_count": 34,
   "id": "9825751e",
   "metadata": {},
   "outputs": [
    {
     "data": {
      "image/png": "[encoded data removed]",
      "text/plain": [
       "<Figure size 800x500 with 1 Axes>"
      ]
     },
     "metadata": {},
     "output_type": "display_data"
    }
   ],
   "source": [
    "import numpy as np\n",
    "import matplotlib.pyplot as plt\n",
    "from sklearn.datasets import make_blobs\n",
    "\n",
    "# Generate synthetic dataset\n",
    "np.random.seed(0)\n",
    "centers = [[2, 2], [5, 1.5]]\n",
    "X, y = make_blobs(n_samples=2000, centers=centers, random_state=5)\n",
    "transformation = [[0.5, 0.5], [-0.5, 1.5]]\n",
    "X = np.dot(X, transformation)\n",
    "\n",
    "# Sigmoid function\n",
    "def sigmoid(z):\n",
    "    return 1 / (1 + np.exp(-z))\n",
    "\n",
    "# -------------------------\n",
    "# Batch Gradient Descent\n",
    "# -------------------------\n",
    "w_gd = np.zeros(X.shape[1])\n",
    "b_gd = 0\n",
    "lr = 0.01\n",
    "n_iter = 20\n",
    "loss_gd = []\n",
    "\n",
    "for i in range(n_iter):\n",
    "    z = np.dot(X, w_gd) + b_gd\n",
    "    y_hat = sigmoid(z)\n",
    "    \n",
    "    dw = np.dot(X.T, (y_hat - y)) / X.shape[0]\n",
    "    db = np.sum(y_hat - y) / X.shape[0]\n",
    "    \n",
    "    w_gd -= lr * dw\n",
    "    b_gd -= lr * db\n",
    "    \n",
    "    loss = -np.mean(y * np.log(y_hat + 1e-9) + (1-y) * np.log(1 - y_hat + 1e-9))\n",
    "    loss_gd.append(loss)\n",
    "\n",
    "# -------------------------\n",
    "# Newton's Method\n",
    "# -------------------------\n",
    "X_bias = np.hstack((X, np.ones((X.shape[0], 1))))  # Add bias column\n",
    "w_newton = np.zeros(X_bias.shape[1])\n",
    "loss_newton = []\n",
    "\n",
    "for i in range(n_iter):\n",
    "    z = np.dot(X_bias, w_newton)\n",
    "    y_hat = sigmoid(z)\n",
    "    \n",
    "    grad = np.dot(X_bias.T, (y_hat - y)) / X.shape[0]\n",
    "    R = np.diag(y_hat * (1 - y_hat))\n",
    "    H = np.dot(X_bias.T, np.dot(R, X_bias)) / X.shape[0]\n",
    "    \n",
    "    w_newton -= np.linalg.inv(H).dot(grad)\n",
    "    \n",
    "    loss = -np.mean(y * np.log(y_hat + 1e-9) + (1-y) * np.log(1 - y_hat + 1e-9))\n",
    "    loss_newton.append(loss)\n",
    "\n",
    "# -------------------------\n",
    "# Plotting\n",
    "# -------------------------\n",
    "plt.figure(figsize=(8,5))\n",
    "plt.plot(range(1, n_iter+1), loss_gd, marker='o', label='Gradient Descent')\n",
    "plt.plot(range(1, n_iter+1), loss_newton, marker='s', label=\"Newton's Method\")\n",
    "plt.xlabel('Iteration')\n",
    "plt.ylabel('Loss')\n",
    "plt.title('Loss vs Iterations')\n",
    "plt.legend()\n",
    "plt.grid(True)\n",
    "plt.show()\n"
   ]
  }
 ],
 "metadata": {
  "kernelspec": {
   "display_name": "Python 3",
   "language": "python",
   "name": "python3"
  },
  "language_info": {
   "codemirror_mode": {
    "name": "ipython",
    "version": 3
   },
   "file_extension": ".py",
   "mimetype": "text/x-python",
   "name": "python",
   "nbconvert_exporter": "python",
   "pygments_lexer": "ipython3",
   "version": "3.13.5"
  }
 },
 "nbformat": 4,
 "nbformat_minor": 5
}
